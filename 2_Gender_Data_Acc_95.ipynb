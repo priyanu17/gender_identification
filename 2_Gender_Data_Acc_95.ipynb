{
  "nbformat": 4,
  "nbformat_minor": 0,
  "metadata": {
    "colab": {
      "name": "23_09/09/20_CNN_Gender_Classification.ipynb",
      "provenance": [],
      "collapsed_sections": [],
      "mount_file_id": "1LPtkAUV9IsjsTD5yA3Izkpq8BxRhhbFU",
      "authorship_tag": "ABX9TyN4ZGEQXc488ujdOOee+3AW",
      "include_colab_link": true
    },
    "kernelspec": {
      "name": "python3",
      "display_name": "Python 3"
    },
    "accelerator": "GPU"
  },
  "cells": [
    {
      "cell_type": "markdown",
      "metadata": {
        "id": "view-in-github",
        "colab_type": "text"
      },
      "source": [
        "<a href=\"https://colab.research.google.com/github/priyanu17/gender_identification/blob/master/2_Gender_Data_Acc_95.ipynb\" target=\"_parent\"><img src=\"https://colab.research.google.com/assets/colab-badge.svg\" alt=\"Open In Colab\"/></a>"
      ]
    },
    {
      "cell_type": "code",
      "metadata": {
        "id": "SoAqso6KxC2q",
        "colab_type": "code",
        "colab": {}
      },
      "source": [
        "# ignore the warnings\n",
        "import warnings\n",
        "warnings.filterwarnings('ignore')\n"
      ],
      "execution_count": 91,
      "outputs": []
    },
    {
      "cell_type": "code",
      "metadata": {
        "id": "u2FYgAVo9dJg",
        "colab_type": "code",
        "colab": {
          "base_uri": "https://localhost:8080/",
          "height": 33
        },
        "outputId": "70814672-3206-44dd-d0d8-12991cb1c928"
      },
      "source": [
        "import tensorflow as tf\n",
        "print(tf.__version__)"
      ],
      "execution_count": 92,
      "outputs": [
        {
          "output_type": "stream",
          "text": [
            "2.3.0\n"
          ],
          "name": "stdout"
        }
      ]
    },
    {
      "cell_type": "code",
      "metadata": {
        "id": "OINAXMkI9e6f",
        "colab_type": "code",
        "colab": {}
      },
      "source": [
        "# creates new directory\n",
        "\n",
        "import os\n",
        "#os.mkdir('Images')"
      ],
      "execution_count": 93,
      "outputs": []
    },
    {
      "cell_type": "code",
      "metadata": {
        "id": "2yRaUdGq9lD8",
        "colab_type": "code",
        "colab": {}
      },
      "source": [
        "# extaract contents of zip file\n",
        "\n",
        "# import zipfile \n",
        "# with zipfile.ZipFile(\"/content/drive/My Drive/Gender_Classification_renamed.zip\", 'r') as zip_ref:\n",
        "#     zip_ref.extractall(\"Images\")"
      ],
      "execution_count": 94,
      "outputs": []
    },
    {
      "cell_type": "code",
      "metadata": {
        "id": "d8g_iTUn9uog",
        "colab_type": "code",
        "colab": {
          "base_uri": "https://localhost:8080/",
          "height": 330
        },
        "outputId": "3b6eb63c-3087-4ea6-8ad8-ec87c729fcf8"
      },
      "source": [
        "# randomly display contents of a single test class\n",
        "\n",
        "import os, random \n",
        "\n",
        "\n",
        "male_image_path = random.choice(os.listdir(\"Images/Gender_Classification_renamed/Validation/male\") )\n",
        "female_image_path = random.choice(os.listdir(\"Images/Gender_Classification_renamed/Validation/female\"))\n",
        "\n",
        "print(male_image_path)\n",
        "print(female_image_path)\n",
        "\n",
        "import cv2\n",
        "\n",
        "from google.colab.patches import cv2_imshow\n",
        "\n",
        "male_img = cv2.imread(\"Images/Gender_Classification_renamed/Validation/male/\" + male_image_path)\n",
        "female_img = cv2.imread(\"Images/Gender_Classification_renamed/Validation/female/\" + female_image_path)\n",
        "\n",
        "print('\\nDisplay the Male Image')\n",
        "cv2_imshow(male_img)\n",
        "\n",
        "print('\\nDisplay the Female Image')\n",
        "cv2_imshow(female_img)"
      ],
      "execution_count": 137,
      "outputs": [
        {
          "output_type": "stream",
          "text": [
            "validation_male (4766).jpg\n",
            "validation_female (1602).jpg\n",
            "\n",
            "Display the Male Image\n"
          ],
          "name": "stdout"
        },
        {
          "output_type": "display_data",
          "data": {
            "image/png": "[encoded data removed]",
            "text/plain": [
              "<PIL.Image.Image image mode=RGB size=72x99 at 0x7FF55A839CF8>"
            ]
          },
          "metadata": {
            "tags": []
          }
        },
        {
          "output_type": "stream",
          "text": [
            "\n",
            "Display the Female Image\n"
          ],
          "name": "stdout"
        },
        {
          "output_type": "display_data",
          "data": {
            "image/png": "[encoded data removed]",
            "text/plain": [
              "<PIL.Image.Image image mode=RGB size=86x114 at 0x7FF55A839C50>"
            ]
          },
          "metadata": {
            "tags": []
          }
        }
      ]
    },
    {
      "cell_type": "code",
      "metadata": {
        "id": "q-rck8MR_YYd",
        "colab_type": "code",
        "colab": {}
      },
      "source": [
        "# Creating our model"
      ],
      "execution_count": 96,
      "outputs": []
    },
    {
      "cell_type": "code",
      "metadata": {
        "id": "NeLt5wjW9uif",
        "colab_type": "code",
        "colab": {}
      },
      "source": [
        "# module used to generate custom variations on the images\n",
        "\n",
        "from tensorflow.keras.preprocessing.image import ImageDataGenerator"
      ],
      "execution_count": 97,
      "outputs": []
    },
    {
      "cell_type": "code",
      "metadata": {
        "id": "hJ9nbDwx9uiD",
        "colab_type": "code",
        "colab": {}
      },
      "source": [
        "# variations on the training set images\n",
        "\n",
        "train_data_gen = ImageDataGenerator(\n",
        "    rescale=1./255.0, \n",
        "    shear_range=0.2,\n",
        "    zoom_range=0.2,\n",
        "    horizontal_flip=True\n",
        "    )\n"
      ],
      "execution_count": 98,
      "outputs": []
    },
    {
      "cell_type": "code",
      "metadata": {
        "id": "_jEiJgeA9ucr",
        "colab_type": "code",
        "colab": {
          "base_uri": "https://localhost:8080/",
          "height": 33
        },
        "outputId": "83c5bde3-4845-4135-f082-278bd6f39197"
      },
      "source": [
        "# extract training images from directory\n",
        "\n",
        "training_set = train_data_gen.flow_from_directory(\n",
        "                directory = \"Images/Gender_Classification_renamed/Training\",\n",
        "                target_size = (64, 64),\n",
        "                class_mode = 'binary',\n",
        "                batch_size = 32,\n",
        "                subset = 'training'\n",
        "                )"
      ],
      "execution_count": 99,
      "outputs": [
        {
          "output_type": "stream",
          "text": [
            "Found 47009 images belonging to 2 classes.\n"
          ],
          "name": "stdout"
        }
      ]
    },
    {
      "cell_type": "code",
      "metadata": {
        "id": "k7Q_r2sd9ucC",
        "colab_type": "code",
        "colab": {}
      },
      "source": [
        "# variations on validation set images : rescaling\n",
        "\n",
        "valid_data_gen = ImageDataGenerator(\n",
        "    rescale=1./255.0\n",
        "    )\n"
      ],
      "execution_count": 100,
      "outputs": []
    },
    {
      "cell_type": "code",
      "metadata": {
        "id": "RJQ5bDtU9uWd",
        "colab_type": "code",
        "colab": {
          "base_uri": "https://localhost:8080/",
          "height": 33
        },
        "outputId": "5cde4211-aec5-40ab-bf8c-ad5803f182aa"
      },
      "source": [
        "# validation set images extracted from directory\n",
        "\n",
        "validation_set = valid_data_gen.flow_from_directory(\n",
        "        directory = 'Images/Gender_Classification_renamed/Validation',\n",
        "        target_size=(64, 64),\n",
        "        class_mode='binary',\n",
        "        batch_size=32\n",
        ")"
      ],
      "execution_count": 101,
      "outputs": [
        {
          "output_type": "stream",
          "text": [
            "Found 11649 images belonging to 2 classes.\n"
          ],
          "name": "stdout"
        }
      ]
    },
    {
      "cell_type": "code",
      "metadata": {
        "id": "Y1_sZVWr9uV9",
        "colab_type": "code",
        "colab": {}
      },
      "source": [
        "# imports for the custom model\n",
        "\n",
        "from tensorflow.keras import Sequential\n",
        "from tensorflow.keras.layers import Conv2D,MaxPool2D,Dropout,Flatten,Dense"
      ],
      "execution_count": 102,
      "outputs": []
    },
    {
      "cell_type": "code",
      "metadata": {
        "id": "7Qvb5zoH9uPF",
        "colab_type": "code",
        "colab": {}
      },
      "source": [
        "\n",
        "# initiating the model\n",
        "custom_model = Sequential()\n",
        "\n",
        "# convolution and pooling operations along with dropout\n",
        "custom_model.add(Conv2D(32,(5,5),activation='relu',input_shape=(64,64,3)))\n",
        "custom_model.add(MaxPool2D(2,2))\n",
        "\n",
        "custom_model.add(Conv2D(64,(5, 5),activation='relu'))\n",
        "custom_model.add(MaxPool2D(2,2))\n",
        "\n",
        "custom_model.add(Conv2D(128,(5, 5),activation='relu'))\n",
        "custom_model.add(MaxPool2D(2,2))\n",
        "\n",
        "# flattening the output from previous layers\n",
        "custom_model.add(Flatten())\n",
        "\n",
        "custom_model.add(Dense(1024,activation='relu'))\n",
        "\n",
        "# output layer\n",
        "custom_model.add(Dense(1,activation='sigmoid'))"
      ],
      "execution_count": 120,
      "outputs": []
    },
    {
      "cell_type": "code",
      "metadata": {
        "id": "crDinuzv9uOq",
        "colab_type": "code",
        "colab": {}
      },
      "source": [
        "# compile the model\n",
        "\n",
        "custom_model.compile(optimizer='adam',loss='binary_crossentropy',metrics=['accuracy'])"
      ],
      "execution_count": 121,
      "outputs": []
    },
    {
      "cell_type": "code",
      "metadata": {
        "id": "qJP5PpMS9uHC",
        "colab_type": "code",
        "colab": {
          "base_uri": "https://localhost:8080/",
          "height": 452
        },
        "outputId": "449f7283-d245-4ec9-d9f6-c099ca0abde7"
      },
      "source": [
        "custom_model.summary()"
      ],
      "execution_count": 122,
      "outputs": [
        {
          "output_type": "stream",
          "text": [
            "Model: \"sequential_5\"\n",
            "_________________________________________________________________\n",
            "Layer (type)                 Output Shape              Param #   \n",
            "=================================================================\n",
            "conv2d_15 (Conv2D)           (None, 60, 60, 32)        2432      \n",
            "_________________________________________________________________\n",
            "max_pooling2d_15 (MaxPooling (None, 30, 30, 32)        0         \n",
            "_________________________________________________________________\n",
            "conv2d_16 (Conv2D)           (None, 26, 26, 64)        51264     \n",
            "_________________________________________________________________\n",
            "max_pooling2d_16 (MaxPooling (None, 13, 13, 64)        0         \n",
            "_________________________________________________________________\n",
            "conv2d_17 (Conv2D)           (None, 9, 9, 128)         204928    \n",
            "_________________________________________________________________\n",
            "max_pooling2d_17 (MaxPooling (None, 4, 4, 128)         0         \n",
            "_________________________________________________________________\n",
            "flatten_5 (Flatten)          (None, 2048)              0         \n",
            "_________________________________________________________________\n",
            "dense_19 (Dense)             (None, 1024)              2098176   \n",
            "_________________________________________________________________\n",
            "dense_20 (Dense)             (None, 1)                 1025      \n",
            "=================================================================\n",
            "Total params: 2,357,825\n",
            "Trainable params: 2,357,825\n",
            "Non-trainable params: 0\n",
            "_________________________________________________________________\n"
          ],
          "name": "stdout"
        }
      ]
    },
    {
      "cell_type": "code",
      "metadata": {
        "id": "j6cLOcca9t7m",
        "colab_type": "code",
        "colab": {
          "base_uri": "https://localhost:8080/",
          "height": 686
        },
        "outputId": "edc3aad3-20a1-4713-904e-b465a20809f4"
      },
      "source": [
        "# model fit on the training set\n",
        "\n",
        "history_custom_model = custom_model.fit(training_set,\n",
        "                            validation_data = validation_set,\n",
        "                            epochs = 20\n",
        "                            )"
      ],
      "execution_count": 124,
      "outputs": [
        {
          "output_type": "stream",
          "text": [
            "Epoch 1/20\n",
            "1470/1470 [==============================] - 98s 67ms/step - loss: 0.2112 - accuracy: 0.9196 - val_loss: 0.1524 - val_accuracy: 0.9402\n",
            "Epoch 2/20\n",
            "1470/1470 [==============================] - 98s 67ms/step - loss: 0.1641 - accuracy: 0.9393 - val_loss: 0.1410 - val_accuracy: 0.9488\n",
            "Epoch 3/20\n",
            "1470/1470 [==============================] - 98s 67ms/step - loss: 0.1535 - accuracy: 0.9445 - val_loss: 0.1411 - val_accuracy: 0.9462\n",
            "Epoch 4/20\n",
            "1470/1470 [==============================] - 99s 67ms/step - loss: 0.1457 - accuracy: 0.9476 - val_loss: 0.1127 - val_accuracy: 0.9595\n",
            "Epoch 5/20\n",
            "1470/1470 [==============================] - 98s 67ms/step - loss: 0.1417 - accuracy: 0.9488 - val_loss: 0.1493 - val_accuracy: 0.9479\n",
            "Epoch 6/20\n",
            "1470/1470 [==============================] - 99s 67ms/step - loss: 0.1345 - accuracy: 0.9522 - val_loss: 0.1138 - val_accuracy: 0.9578\n",
            "Epoch 7/20\n",
            "1470/1470 [==============================] - 99s 67ms/step - loss: 0.1297 - accuracy: 0.9540 - val_loss: 0.1095 - val_accuracy: 0.9609\n",
            "Epoch 8/20\n",
            "1470/1470 [==============================] - 98s 67ms/step - loss: 0.1284 - accuracy: 0.9544 - val_loss: 0.1119 - val_accuracy: 0.9597\n",
            "Epoch 9/20\n",
            "1470/1470 [==============================] - 98s 67ms/step - loss: 0.1235 - accuracy: 0.9550 - val_loss: 0.1041 - val_accuracy: 0.9644\n",
            "Epoch 10/20\n",
            "1470/1470 [==============================] - 98s 67ms/step - loss: 0.1219 - accuracy: 0.9573 - val_loss: 0.1093 - val_accuracy: 0.9588\n",
            "Epoch 11/20\n",
            "1470/1470 [==============================] - 98s 66ms/step - loss: 0.1199 - accuracy: 0.9572 - val_loss: 0.1192 - val_accuracy: 0.9571\n",
            "Epoch 12/20\n",
            "1470/1470 [==============================] - 97s 66ms/step - loss: 0.1157 - accuracy: 0.9587 - val_loss: 0.1016 - val_accuracy: 0.9612\n",
            "Epoch 13/20\n",
            "1470/1470 [==============================] - 98s 66ms/step - loss: 0.1143 - accuracy: 0.9596 - val_loss: 0.1021 - val_accuracy: 0.9639\n",
            "Epoch 14/20\n",
            "1470/1470 [==============================] - 98s 67ms/step - loss: 0.1127 - accuracy: 0.9599 - val_loss: 0.1085 - val_accuracy: 0.9628\n",
            "Epoch 15/20\n",
            "1470/1470 [==============================] - 98s 67ms/step - loss: 0.1097 - accuracy: 0.9613 - val_loss: 0.1017 - val_accuracy: 0.9637\n",
            "Epoch 16/20\n",
            "1470/1470 [==============================] - 98s 67ms/step - loss: 0.1100 - accuracy: 0.9613 - val_loss: 0.1036 - val_accuracy: 0.9646\n",
            "Epoch 17/20\n",
            "1470/1470 [==============================] - 98s 67ms/step - loss: 0.1080 - accuracy: 0.9612 - val_loss: 0.1191 - val_accuracy: 0.9621\n",
            "Epoch 18/20\n",
            "1470/1470 [==============================] - 98s 67ms/step - loss: 0.1077 - accuracy: 0.9623 - val_loss: 0.1064 - val_accuracy: 0.9624\n",
            "Epoch 19/20\n",
            "1470/1470 [==============================] - 99s 67ms/step - loss: 0.1063 - accuracy: 0.9611 - val_loss: 0.1023 - val_accuracy: 0.9635\n",
            "Epoch 20/20\n",
            "1470/1470 [==============================] - 99s 67ms/step - loss: 0.1025 - accuracy: 0.9633 - val_loss: 0.1015 - val_accuracy: 0.9638\n"
          ],
          "name": "stdout"
        }
      ]
    },
    {
      "cell_type": "code",
      "metadata": {
        "id": "Cxs6lQLfVZCM",
        "colab_type": "code",
        "colab": {
          "base_uri": "https://localhost:8080/",
          "height": 33
        },
        "outputId": "d113f79d-40fa-4d0e-84fa-16c558b3ce6d"
      },
      "source": [
        "# final evaluation on the validation set\n",
        "\n",
        "score_custom_model = custom_model.evaluate(validation_set, verbose=2)\n"
      ],
      "execution_count": 125,
      "outputs": [
        {
          "output_type": "stream",
          "text": [
            "365/365 - 7s - loss: 0.1015 - accuracy: 0.9638\n"
          ],
          "name": "stdout"
        }
      ]
    },
    {
      "cell_type": "code",
      "metadata": {
        "id": "K8PYrwElVZON",
        "colab_type": "code",
        "colab": {
          "base_uri": "https://localhost:8080/",
          "height": 50
        },
        "outputId": "d44152d3-8f08-4bc7-acd4-a9b8e38cb0a8"
      },
      "source": [
        "# test loss and test accuracy\n",
        "\n",
        "print('Custom Model : Test Loss is : ', score_custom_model[0])\n",
        "print('Custom Model : Test Accuracy is : ', score_custom_model[1])"
      ],
      "execution_count": 126,
      "outputs": [
        {
          "output_type": "stream",
          "text": [
            "Custom Model : Test Loss is :  0.10151663422584534\n",
            "Custom Model : Test Accuracy is :  0.9637737274169922\n"
          ],
          "name": "stdout"
        }
      ]
    },
    {
      "cell_type": "code",
      "metadata": {
        "id": "q72NAYjqn5Je",
        "colab_type": "code",
        "colab": {}
      },
      "source": [
        "import matplotlib.pyplot as plt\n",
        "import seaborn as sns\n",
        "\n",
        "sns.set(context = 'paper', style='dark')"
      ],
      "execution_count": 127,
      "outputs": []
    },
    {
      "cell_type": "code",
      "metadata": {
        "id": "e3gfZOVpVZIv",
        "colab_type": "code",
        "colab": {}
      },
      "source": [
        "def plot_model_loss(model_history):\n",
        "\n",
        "    # Training vs Validation Loss Visualization :\n",
        "\n",
        "    history_dict = model_history.history\n",
        "\n",
        "    # extract train and validation loss values\n",
        "    loss_values = history_dict['loss']  \n",
        "    val_loss_values = history_dict['val_loss']\n",
        "    \n",
        "    # number of epochs\n",
        "    epochs = range(1, len(loss_values) + 1)\n",
        "\n",
        "    plt.figure(figsize = (10, 5))\n",
        "\n",
        "    # plot the validation and train losses\n",
        "    validation_line = plt.plot(epochs, val_loss_values, label = 'Validation Loss')\n",
        "    train_line = plt.plot(epochs, loss_values, label = 'Training Loss')\n",
        "\n",
        "    # set markers \n",
        "    plt.setp(validation_line , linewidth = 2.0, marker = '+', markersize = 10.0)\n",
        "    plt.setp(train_line, linewidth = 2.0, marker = '4', markersize = 10.0)\n",
        "\n",
        "    # label the images\n",
        "    plt.xlabel('Epochs :  ')\n",
        "    plt.ylabel('(Training/Validation)Loss :  ')\n",
        "    plt.grid(True)\n",
        "    plt.legend()\n",
        "    plt.show()"
      ],
      "execution_count": 128,
      "outputs": []
    },
    {
      "cell_type": "code",
      "metadata": {
        "id": "cMlDzqHiVZHn",
        "colab_type": "code",
        "colab": {}
      },
      "source": [
        "def plot_model_accuracy(model_history):\n",
        "\n",
        "    # Training vs Validation Accuracy Visualization :\n",
        "\n",
        "    history_dict = model_history.history\n",
        "\n",
        "    # extract the train and validation accuracy values\n",
        "    accuracy_values = history_dict['accuracy']\n",
        "    val_accuracy_values = history_dict['val_accuracy']\n",
        "\n",
        "    # number of epochs\n",
        "    epochs = range(1, len(accuracy_values) + 1)\n",
        "\n",
        "    plt.figure(figsize = (10, 5))\n",
        "\n",
        "    # plot the validation and train accuracy\n",
        "    validation_line = plt.plot(epochs, val_accuracy_values, label = 'Validation Accuracy')\n",
        "    train_line = plt.plot(epochs, accuracy_values, label = 'Training Accuracy')\n",
        "\n",
        "    # set markers\n",
        "    plt.setp(validation_line , linewidth = 2.0, marker = '+', markersize = 10.0)\n",
        "    plt.setp(train_line, linewidth = 2.0, marker = '4', markersize = 10.0)\n",
        "\n",
        "    # label the images\n",
        "    plt.xlabel('Epochs :  ' )\n",
        "    plt.ylabel('(Training/Validation)Accuracy :  ')\n",
        "    plt.grid(True)\n",
        "    plt.legend()\n",
        "    plt.show()\n"
      ],
      "execution_count": 129,
      "outputs": []
    },
    {
      "cell_type": "code",
      "metadata": {
        "id": "NiA0tUYvVY5L",
        "colab_type": "code",
        "colab": {
          "base_uri": "https://localhost:8080/",
          "height": 334
        },
        "outputId": "2ddeeacc-7b3f-41d9-9d61-40bb9f2d6f02"
      },
      "source": [
        "plot_model_loss(history_custom_model)"
      ],
      "execution_count": 130,
      "outputs": [
        {
          "output_type": "display_data",
          "data": {
            "image/png": "[encoded data removed]",
            "text/plain": [
              "<Figure size 720x360 with 1 Axes>"
            ]
          },
          "metadata": {
            "tags": []
          }
        }
      ]
    },
    {
      "cell_type": "code",
      "metadata": {
        "id": "tCyH13uOcoQD",
        "colab_type": "code",
        "colab": {
          "base_uri": "https://localhost:8080/",
          "height": 334
        },
        "outputId": "5a0b26ba-dc25-4a7e-cb0c-150b79f2acaf"
      },
      "source": [
        "plot_model_accuracy(history_custom_model)"
      ],
      "execution_count": 131,
      "outputs": [
        {
          "output_type": "display_data",
          "data": {
            "image/png": "[encoded data removed]",
            "text/plain": [
              "<Figure size 720x360 with 1 Axes>"
            ]
          },
          "metadata": {
            "tags": []
          }
        }
      ]
    },
    {
      "cell_type": "code",
      "metadata": {
        "id": "2W59swrukgpb",
        "colab_type": "code",
        "colab": {}
      },
      "source": [
        ""
      ],
      "execution_count": 131,
      "outputs": []
    },
    {
      "cell_type": "code",
      "metadata": {
        "id": "6SxRsHEYkgzk",
        "colab_type": "code",
        "colab": {
          "base_uri": "https://localhost:8080/",
          "height": 33
        },
        "outputId": "b2a8e877-19a3-4537-e872-8356bb076962"
      },
      "source": [
        "print(set(training_set.classes))\n"
      ],
      "execution_count": 132,
      "outputs": [
        {
          "output_type": "stream",
          "text": [
            "{0, 1}\n"
          ],
          "name": "stdout"
        }
      ]
    },
    {
      "cell_type": "code",
      "metadata": {
        "id": "QUnX3JmcrhBZ",
        "colab_type": "code",
        "colab": {}
      },
      "source": [
        "import numpy as np"
      ],
      "execution_count": 134,
      "outputs": []
    },
    {
      "cell_type": "code",
      "metadata": {
        "id": "-ARNJiMgcole",
        "colab_type": "code",
        "colab": {}
      },
      "source": [
        "def predict_on_single_image(model_to_predict_on, img_height, img_width):\n",
        "    \n",
        "    # Predict on a single image from the test directory\n",
        "\n",
        "    # select test directory\n",
        "    import os, random \n",
        "    selected_folder = random.choice(os.listdir(\"Images/Gender_Classification_renamed/Validation\") )\n",
        "    selected_folder_picture = random.choice(os.listdir(\"Images/Gender_Classification_renamed/Validation/\" + str(selected_folder)) )\n",
        "\n",
        "\n",
        "    img = cv2.imread(\"Images/Gender_Classification_renamed/Validation/\" + str(selected_folder) +'/' + str(selected_folder_picture))\n",
        "    print('\\nDisplaying the image\\n')\n",
        "    cv2_imshow(img)\n",
        "\n",
        "    print('\\nActual Class :' , str(selected_folder), '\\n')\n",
        "\n",
        "    from keras.preprocessing import image\n",
        "\n",
        "    # load the image\n",
        "    img = image.load_img(\"Images/Gender_Classification_renamed/Validation/\" + str(selected_folder) +'/' + str(selected_folder_picture), \n",
        "                        target_size = (img_width, img_height))\n",
        "    img = image.img_to_array(img) # convert into array \n",
        "    img = np.expand_dims(img, axis = 0) # add single image to batch \n",
        "\n",
        "    # make prediction\n",
        "    model_to_predict_on_pred = model_to_predict_on.predict((img))\n",
        "\n",
        "    category_label = (validation_set.class_indices)\n",
        "    print('The category labels are : ', str(category_label))\n",
        "    print('Prediction Output :' , str(model_to_predict_on_pred))\n",
        "\n",
        "    if (model_to_predict_on_pred.reshape(1)[0] > 0.5):\n",
        "        print('Predicted Class : male')\n",
        "\n",
        "    else:\n",
        "        print('Predicted Class : female')\n"
      ],
      "execution_count": 166,
      "outputs": []
    },
    {
      "cell_type": "code",
      "metadata": {
        "id": "IZZ-fcUxco5y",
        "colab_type": "code",
        "colab": {
          "base_uri": "https://localhost:8080/",
          "height": 278
        },
        "outputId": "0c05bfc7-4e29-4c1a-d061-0e9634ca3397"
      },
      "source": [
        "predict_on_single_image(custom_model, 64, 64)"
      ],
      "execution_count": 167,
      "outputs": [
        {
          "output_type": "stream",
          "text": [
            "\n",
            "Displaying the image\n",
            "\n"
          ],
          "name": "stdout"
        },
        {
          "output_type": "display_data",
          "data": {
            "image/png": "[encoded data removed]",
            "text/plain": [
              "<PIL.Image.Image image mode=RGB size=85x111 at 0x7FF54153B860>"
            ]
          },
          "metadata": {
            "tags": []
          }
        },
        {
          "output_type": "stream",
          "text": [
            "\n",
            "Actual Class : male \n",
            "\n",
            "The category labels are :  {'female': 0, 'male': 1}\n",
            "Prediction Output : [[1.]]\n",
            "Predicted Class : male\n"
          ],
          "name": "stdout"
        }
      ]
    },
    {
      "cell_type": "code",
      "metadata": {
        "id": "zL-suZpRcpDL",
        "colab_type": "code",
        "colab": {}
      },
      "source": [
        ""
      ],
      "execution_count": null,
      "outputs": []
    }
  ]
}